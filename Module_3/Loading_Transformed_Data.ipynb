{
 "cells": [
  {
   "cell_type": "markdown",
   "id": "048105ee",
   "metadata": {},
   "source": [
    "### Best Practices for Data Loading"
   ]
  },
  {
   "cell_type": "code",
   "execution_count": 1,
   "id": "30afd415",
   "metadata": {},
   "outputs": [],
   "source": [
    "# import modules\n",
    "import sqlite3"
   ]
  },
  {
   "cell_type": "code",
   "execution_count": 15,
   "id": "c3f9beb4",
   "metadata": {},
   "outputs": [],
   "source": [
    "# demo data\n",
    "laundry_mat_data = [\n",
    "    {\"product\": \"Detergent\", \"dollar_price_per_unit\": 4.5, \"quantity\": 100, \"total_cost\": 200},\n",
    "    {\"product\": \"Dryer Sheets Box\", \"dollar_price_per_unit\": 3.5, \"quantity\": 100, \"total_cost\": 350},\n",
    "    {\"product\": \"Washing Machine\", \"dollar_price_per_unit\": 400, \"quantity\": 25, \"total_cost\": 10000},\n",
    "    {\"product\": \"Dryer\", \"dollar_price_per_unit\": 400, \"quantity\": 25, \"total_cost\": 10000},\n",
    "]"
   ]
  },
  {
   "cell_type": "code",
   "execution_count": 17,
   "id": "c2627d5e-8ebf-4dbd-986a-f62637bb226e",
   "metadata": {},
   "outputs": [
    {
     "name": "stdout",
     "output_type": "stream",
     "text": [
      "{'product': 'Detergent', 'dollar_price_per_unit': 4.5, 'quantity': 100, 'total_cost': 200}\n",
      "{'product': 'Dryer Sheets Box', 'dollar_price_per_unit': 3.5, 'quantity': 100, 'total_cost': 350}\n",
      "{'product': 'Washing Machine', 'dollar_price_per_unit': 400, 'quantity': 25, 'total_cost': 10000}\n",
      "{'product': 'Dryer', 'dollar_price_per_unit': 400, 'quantity': 25, 'total_cost': 10000}\n"
     ]
    }
   ],
   "source": [
    "for record in laundry_mat_data:\n",
    "    print(record)"
   ]
  },
  {
   "cell_type": "markdown",
   "id": "52844b6f",
   "metadata": {},
   "source": [
    "Full Data Load"
   ]
  },
  {
   "cell_type": "code",
   "execution_count": 29,
   "id": "ce9ea91d",
   "metadata": {},
   "outputs": [],
   "source": [
    "def perform_full_data_load(laundry_mat_data):\n",
    "    conn = sqlite3.connect(\"laundry_mat.db\")  # Connect to the database\n",
    "    cursor = conn.cursor()\n",
    "\n",
    "    cursor.execute(\"CREATE TABLE laundry_mat (product TEXT, dollar_price_per_unit FLOAT, quantity INTEGER, total_cost FLOAT)\")\n",
    "    # Truncate the existing data\n",
    "    cursor.execute(\"DELETE FROM laundry_mat\")\n",
    "\n",
    "    # Insert new data\n",
    "    for record in laundry_mat_data:\n",
    "        cursor.execute(\"INSERT INTO laundry_mat (product, dollar_price_per_unit, quantity, total_cost) VALUES (?, ?, ?, ?)\",\n",
    "                       (record[\"product\"], record[\"dollar_price_per_unit\"], record[\"quantity\"], record[\"total_cost\"]))\n",
    "\n",
    "    conn.commit()\n",
    "    conn.close()"
   ]
  },
  {
   "cell_type": "code",
   "execution_count": 31,
   "id": "9b0565e9-7321-483b-90cb-8b1e73e1db73",
   "metadata": {},
   "outputs": [
    {
     "name": "stdout",
     "output_type": "stream",
     "text": [
      "[('Detergent', 4.5, 100, 200.0), ('Dryer Sheets Box', 3.5, 100, 350.0), ('Washing Machine', 400.0, 25, 10000.0), ('Dryer', 400.0, 25, 10000.0)]\n"
     ]
    }
   ],
   "source": [
    "conn = sqlite3.connect(\"laundry_mat.db\")  # Connect to the database\n",
    "cursor = conn.cursor()\n",
    "\n",
    "rows = cursor.execute(\"SELECT product, dollar_price_per_unit, quantity, total_cost  FROM laundry_mat\").fetchall()\n",
    "print(rows)\n"
   ]
  },
  {
   "cell_type": "code",
   "execution_count": 30,
   "id": "7eefd75b",
   "metadata": {},
   "outputs": [],
   "source": [
    "perform_full_data_load(laundry_mat_data)"
   ]
  },
  {
   "cell_type": "markdown",
   "id": "40157e58",
   "metadata": {},
   "source": [
    "Incremental Data Load"
   ]
  },
  {
   "cell_type": "code",
   "execution_count": 32,
   "id": "353fbcd4",
   "metadata": {},
   "outputs": [],
   "source": [
    "def perform_incremental_data_load(laundry_mat_data):\n",
    "    conn = sqlite3.connect(\"laundry_mat.db\")  # Connect to the database\n",
    "    cursor = conn.cursor()\n",
    "\n",
    "    # Insert new data (if the product doesn't already exist)\n",
    "    for record in laundry_mat_data:\n",
    "        cursor.execute(\"INSERT OR IGNORE INTO laundry_mat (product, dollar_price_per_unit, quantity, total_cost) VALUES (?, ?, ?, ?)\",\n",
    "                       (record[\"product\"], record[\"dollar_price_per_unit\"], record[\"quantity\"], record[\"total_cost\"]))\n",
    "\n",
    "    conn.commit()\n",
    "    conn.close()"
   ]
  },
  {
   "cell_type": "code",
   "execution_count": 33,
   "id": "37075fd1",
   "metadata": {},
   "outputs": [],
   "source": [
    "perform_incremental_data_load(laundry_mat_data)"
   ]
  },
  {
   "cell_type": "code",
   "execution_count": null,
   "id": "a7e47b44-aff7-43b5-8d34-21c8d7f7a51a",
   "metadata": {},
   "outputs": [],
   "source": []
  }
 ],
 "metadata": {
  "kernelspec": {
   "display_name": "Python 3 (ipykernel)",
   "language": "python",
   "name": "python3"
  },
  "language_info": {
   "codemirror_mode": {
    "name": "ipython",
    "version": 3
   },
   "file_extension": ".py",
   "mimetype": "text/x-python",
   "name": "python",
   "nbconvert_exporter": "python",
   "pygments_lexer": "ipython3",
   "version": "3.9.18"
  }
 },
 "nbformat": 4,
 "nbformat_minor": 5
}
